{
 "cells": [
  {
   "cell_type": "code",
   "execution_count": null,
   "metadata": {},
   "outputs": [],
   "source": [
    "import numpy as np\n",
    "import pandas as pd\n",
    "import matplotlib.pyplot as plt\n",
    "import statsmodels.api as sm\n",
    "from statsmodels.tsa.api import VAR\n",
    "from statsmodels.tsa.stattools import adfuller, grangercausalitytests"
   ]
  },
  {
   "cell_type": "code",
   "execution_count": null,
   "metadata": {},
   "outputs": [],
   "source": [
    "df = pd.read_csv('inspect_training_set.csv', skiprows=1)"
   ]
  },
  {
   "cell_type": "code",
   "execution_count": null,
   "metadata": {},
   "outputs": [],
   "source": [
    "df_test = df.iloc[2:, 1:3].copy()"
   ]
  },
  {
   "cell_type": "code",
   "execution_count": null,
   "metadata": {},
   "outputs": [],
   "source": [
    "# Create a figure and axis\n",
    "fig, ax1 = plt.subplots()\n",
    "\n",
    "# Plot the first dataset\n",
    "ax1.plot(df_test.iloc[:,0], 'b-', label='AUDUSD')\n",
    "ax1.set_ylabel('AUDUSD', color='b')\n",
    "\n",
    "# Create a second y-axis\n",
    "ax2 = ax1.twinx()\n",
    "ax2.plot(df_test.iloc[:,1].shift(4), 'r-', label='BZ')\n",
    "ax2.set_ylabel('BZ', color='r')\n",
    "\n",
    "fig.legend()"
   ]
  },
  {
   "cell_type": "markdown",
   "metadata": {},
   "source": [
    "**Steps**\n",
    "1. Consider smoothing the price time-series for more meaningful lead-lag relationship analysis\n",
    "2. Linear vs. non-linear leading relationships to consider\n",
    "3. Test it out\n",
    "\n",
    "**Things to flag out**\n",
    "- Data needs to be in a more easily readable format (Not multi-layer column headers)\n",
    "- Need to find a way to install the Transfer Entropy package"
   ]
  },
  {
   "cell_type": "code",
   "execution_count": null,
   "metadata": {},
   "outputs": [],
   "source": [
    "# Granger Causality (Linear relationship)\n",
    "def check_stationarity(time_series):\n",
    "    result = adfuller(time_series)\n",
    "    return result[1]  # Return the p-value\n",
    "\n",
    "def transform_to_stationary(df):\n",
    "    diff_df = df.diff().dropna()\n",
    "    return diff_df\n",
    "\n",
    "def find_optimal_lag(df, max_lag):\n",
    "    model = VAR(df)\n",
    "    lag_order = model.select_order(maxlags=max_lag)\n",
    "    return lag_order.bic\n",
    "\n",
    "def granger_causality_test(df, max_lag):\n",
    "    results = {}\n",
    "    for lag in range(1, max_lag + 1):\n",
    "        result = grangercausalitytests(df, lag, verbose=False)\n",
    "        p_values = [round(test[0]['ssr_chi2test'][1], 4) for test in result.values()]\n",
    "        results[lag] = p_values\n",
    "    \n",
    "    optimal_lag = None\n",
    "    for lag, p_values in results.items():\n",
    "        if all(p < 0.05 for p in p_values):\n",
    "            optimal_lag = lag\n",
    "            break\n",
    "    \n",
    "    return optimal_lag, results\n",
    "\n",
    "def find_leading_variable(df, max_lag=10):\n",
    "    # Step 1: Check stationarity and transform if necessary\n",
    "    is_stationary_X = check_stationarity(df.iloc[:,0]) < 0.05\n",
    "    is_stationary_Y = check_stationarity(df.iloc[:,1]) < 0.05\n",
    "    \n",
    "    if not is_stationary_X or not is_stationary_Y:\n",
    "        df = transform_to_stationary(df)\n",
    "    \n",
    "    # Step 2: Find the optimal lag using VAR model\n",
    "    optimal_lag = find_optimal_lag(df, max_lag)\n",
    "    \n",
    "    # Step 3: Perform Granger causality test\n",
    "    optimal_lag, causality_results = granger_causality_test(df, optimal_lag)\n",
    "    \n",
    "    if optimal_lag is None:\n",
    "        return None, None\n",
    "    \n",
    "    # Step 4: Determine the leading variable\n",
    "    p_values = causality_results[optimal_lag]\n",
    "    leading_variable = 'X leads Y' if p_values[0] < 0.05 else 'Y leads X'\n",
    "    \n",
    "    return leading_variable, optimal_lag\n",
    "\n"
   ]
  },
  {
   "cell_type": "code",
   "execution_count": null,
   "metadata": {},
   "outputs": [],
   "source": [
    "from idtxl.data import Data\n",
    "from idtxl.multivariate_te import MultivariateTE\n",
    "from idtxl.visualise_graph import plot_network\n",
    "\n",
    "# Generate example time series data\n",
    "data = np.random.rand(2, 1000)  # Replace with your time series data\n",
    "\n",
    "# Prepare the data for IDTxl\n",
    "data = Data(data, dim_order='psr')\n",
    "\n",
    "# Configure and run the analysis\n",
    "network_analysis = MultivariateTE()\n",
    "settings = {\n",
    "    'cmi_estimator': 'JidtGaussianCMI',\n",
    "    'max_lag_sources': 5\n",
    "}\n",
    "results = network_analysis.analyse_network(settings=settings, data=data)\n",
    "\n",
    "# Visualise the network\n",
    "plot_network(results)\n",
    "\n",
    "# Interpret the results\n",
    "for source_target, info in results.get_single_target('Y').items():\n",
    "    source, target = source_target\n",
    "    print(f'Transfer Entropy from {source} to {target}: {info[\"p_value\"]}')\n",
    "    if info['p_value'] < 0.05:\n",
    "        print(f'{source} leads {target}')\n",
    "        optimal_lag = info['lags'][0]\n",
    "        print(f'Optimal lag: {optimal_lag}')\n"
   ]
  }
 ],
 "metadata": {
  "language_info": {
   "name": "python"
  }
 },
 "nbformat": 4,
 "nbformat_minor": 2
}
